{
 "cells": [
  {
   "cell_type": "code",
   "execution_count": 4,
   "id": "3644a884",
   "metadata": {},
   "outputs": [],
   "source": [
    "import pyspark\n",
    "import os"
   ]
  },
  {
   "cell_type": "code",
   "execution_count": 2,
   "id": "02c7e1c5",
   "metadata": {},
   "outputs": [
    {
     "name": "stdout",
     "output_type": "stream",
     "text": [
      "2021-11-09 00:03:49 WARN  NativeCodeLoader:62 - Unable to load native-hadoop library for your platform... using builtin-java classes where applicable\n"
     ]
    },
    {
     "name": "stderr",
     "output_type": "stream",
     "text": [
      "Setting default log level to \"WARN\".\n",
      "To adjust logging level use sc.setLogLevel(newLevel). For SparkR, use setLogLevel(newLevel).\n"
     ]
    },
    {
     "name": "stdout",
     "output_type": "stream",
     "text": [
      "2021-11-09 00:03:50 WARN  Utils:66 - Service 'SparkUI' could not bind on port 4040. Attempting port 4041.\n"
     ]
    }
   ],
   "source": [
    "spark = pyspark.sql.SparkSession.builder.master('local[*]').getOrCreate()"
   ]
  },
  {
   "cell_type": "code",
   "execution_count": 6,
   "id": "45f519af",
   "metadata": {},
   "outputs": [
    {
     "name": "stdout",
     "output_type": "stream",
     "text": [
      "+----+-------+\n",
      "| age|   name|\n",
      "+----+-------+\n",
      "|null|Michael|\n",
      "|  30|   Andy|\n",
      "|  19| Justin|\n",
      "+----+-------+\n",
      "\n"
     ]
    }
   ],
   "source": [
    "df = spark.read.json(\"/path/to/spark-folder/examples/src/main/resources/people.json\")\n",
    "df.show()"
   ]
  },
  {
   "cell_type": "code",
   "execution_count": 8,
   "id": "1564b7c9",
   "metadata": {},
   "outputs": [
    {
     "name": "stdout",
     "output_type": "stream",
     "text": [
      "root\n",
      " |-- age: long (nullable = true)\n",
      " |-- name: string (nullable = true)\n",
      "\n"
     ]
    }
   ],
   "source": [
    "# spark, df are from the previous example\n",
    "# Print the schema in a tree format\n",
    "df.printSchema()"
   ]
  },
  {
   "cell_type": "code",
   "execution_count": 9,
   "id": "e0cd5a4e",
   "metadata": {},
   "outputs": [
    {
     "name": "stdout",
     "output_type": "stream",
     "text": [
      "+-------+\n",
      "|   name|\n",
      "+-------+\n",
      "|Michael|\n",
      "|   Andy|\n",
      "| Justin|\n",
      "+-------+\n",
      "\n"
     ]
    }
   ],
   "source": [
    "# Select only the \"name\" column\n",
    "df.select(\"name\").show()"
   ]
  },
  {
   "cell_type": "code",
   "execution_count": 10,
   "id": "755155d3",
   "metadata": {},
   "outputs": [
    {
     "name": "stdout",
     "output_type": "stream",
     "text": [
      "+-------+---------+\n",
      "|   name|(age + 1)|\n",
      "+-------+---------+\n",
      "|Michael|     null|\n",
      "|   Andy|       31|\n",
      "| Justin|       20|\n",
      "+-------+---------+\n",
      "\n"
     ]
    }
   ],
   "source": [
    "# Select everybody, but increment the age by 1\n",
    "df.select(df['name'], df['age'] + 1).show()"
   ]
  },
  {
   "cell_type": "code",
   "execution_count": 11,
   "id": "d07a4b17",
   "metadata": {},
   "outputs": [
    {
     "name": "stdout",
     "output_type": "stream",
     "text": [
      "+---+----+\n",
      "|age|name|\n",
      "+---+----+\n",
      "| 30|Andy|\n",
      "+---+----+\n",
      "\n"
     ]
    }
   ],
   "source": [
    "# Select people older than 21\n",
    "df.filter(df['age'] > 21).show()"
   ]
  },
  {
   "cell_type": "code",
   "execution_count": 12,
   "id": "b238dce8",
   "metadata": {},
   "outputs": [
    {
     "name": "stdout",
     "output_type": "stream",
     "text": [
      "+----+-----+\n",
      "| age|count|\n",
      "+----+-----+\n",
      "|  19|    1|\n",
      "|null|    1|\n",
      "|  30|    1|\n",
      "+----+-----+\n",
      "\n"
     ]
    }
   ],
   "source": [
    "# Count people by age\n",
    "df.groupBy(\"age\").count().show()"
   ]
  },
  {
   "cell_type": "code",
   "execution_count": 13,
   "id": "2bbe72a4",
   "metadata": {},
   "outputs": [
    {
     "name": "stdout",
     "output_type": "stream",
     "text": [
      "+----+-------+\n",
      "| age|   name|\n",
      "+----+-------+\n",
      "|null|Michael|\n",
      "|  30|   Andy|\n",
      "|  19| Justin|\n",
      "+----+-------+\n",
      "\n"
     ]
    }
   ],
   "source": [
    "# Register the DataFrame as a SQL temporary view\n",
    "df.createOrReplaceTempView(\"people\")\n",
    "\n",
    "sqlDF = spark.sql(\"SELECT * FROM people\")\n",
    "sqlDF.show()"
   ]
  },
  {
   "cell_type": "code",
   "execution_count": 14,
   "id": "373e9ea0",
   "metadata": {},
   "outputs": [
    {
     "name": "stdout",
     "output_type": "stream",
     "text": [
      "+----+-------+\n",
      "| age|   name|\n",
      "+----+-------+\n",
      "|null|Michael|\n",
      "|  30|   Andy|\n",
      "|  19| Justin|\n",
      "+----+-------+\n",
      "\n"
     ]
    }
   ],
   "source": [
    "# Register the DataFrame as a global temporary view\n",
    "df.createGlobalTempView(\"people\")\n",
    "\n",
    "# Global temporary view is tied to a system preserved database `global_temp`\n",
    "spark.sql(\"SELECT * FROM global_temp.people\").show()"
   ]
  },
  {
   "cell_type": "code",
   "execution_count": 15,
   "id": "ca88b163",
   "metadata": {},
   "outputs": [
    {
     "name": "stdout",
     "output_type": "stream",
     "text": [
      "+----+-------+\n",
      "| age|   name|\n",
      "+----+-------+\n",
      "|null|Michael|\n",
      "|  30|   Andy|\n",
      "|  19| Justin|\n",
      "+----+-------+\n",
      "\n"
     ]
    }
   ],
   "source": [
    "# Global temporary view is cross-session\n",
    "spark.newSession().sql(\"SELECT * FROM global_temp.people\").show()"
   ]
  },
  {
   "cell_type": "code",
   "execution_count": 16,
   "id": "1509b62f",
   "metadata": {},
   "outputs": [],
   "source": [
    "df.write.csv(\"test.csv\")\n",
    "df.write.parquet(\"test.parquet\")"
   ]
  },
  {
   "cell_type": "code",
   "execution_count": 18,
   "id": "1129e6b4",
   "metadata": {},
   "outputs": [
    {
     "name": "stderr",
     "output_type": "stream",
     "text": [
      "                                                                                \r"
     ]
    },
    {
     "name": "stdout",
     "output_type": "stream",
     "text": [
      "Name: Justin\n"
     ]
    }
   ],
   "source": [
    "from pyspark.sql import Row\n",
    "\n",
    "sc = spark.sparkContext\n",
    "\n",
    "# Load a text file and convert each line to a Row.\n",
    "lines = sc.textFile(\"/path/to/spark-folder/examples/src/main/resources/people.txt\")\n",
    "parts = lines.map(lambda l: l.split(\",\"))\n",
    "people = parts.map(lambda p: Row(name=p[0], age=int(p[1])))\n",
    "\n",
    "# Infer the schema, and register the DataFrame as a table.\n",
    "schemaPeople = spark.createDataFrame(people)\n",
    "schemaPeople.createOrReplaceTempView(\"people\")\n",
    "\n",
    "# SQL can be run over DataFrames that have been registered as a table.\n",
    "teenagers = spark.sql(\"SELECT name FROM people WHERE age >= 13 AND age <= 19\")\n",
    "\n",
    "# The results of SQL queries are Dataframe objects.\n",
    "# rdd returns the content as an :class:`pyspark.RDD` of :class:`Row`.\n",
    "teenNames = teenagers.rdd.map(lambda p: \"Name: \" + p.name).collect()\n",
    "for name in teenNames:\n",
    "    print(name)\n",
    "# Name: Justin"
   ]
  },
  {
   "cell_type": "markdown",
   "id": "16d0489d",
   "metadata": {},
   "source": [
    "### Machine Learning"
   ]
  },
  {
   "cell_type": "code",
   "execution_count": 22,
   "id": "d3de9b45",
   "metadata": {},
   "outputs": [],
   "source": [
    "from pyspark.ml import Pipeline\n",
    "from pyspark.ml.classification import RandomForestClassifier\n",
    "from pyspark.ml.feature import IndexToString, StringIndexer, VectorIndexer\n",
    "from pyspark.ml.evaluation import MulticlassClassificationEvaluator"
   ]
  },
  {
   "cell_type": "code",
   "execution_count": 24,
   "id": "78e26ab7",
   "metadata": {},
   "outputs": [
    {
     "name": "stdout",
     "output_type": "stream",
     "text": [
      "+---+---+---+---+-----------+\n",
      "|_c0|_c1|_c2|_c3|        _c4|\n",
      "+---+---+---+---+-----------+\n",
      "|5.1|3.5|1.4|0.2|Iris-setosa|\n",
      "|4.9|3.0|1.4|0.2|Iris-setosa|\n",
      "|4.7|3.2|1.3|0.2|Iris-setosa|\n",
      "|4.6|3.1|1.5|0.2|Iris-setosa|\n",
      "|5.0|3.6|1.4|0.2|Iris-setosa|\n",
      "|5.4|3.9|1.7|0.4|Iris-setosa|\n",
      "|4.6|3.4|1.4|0.3|Iris-setosa|\n",
      "|5.0|3.4|1.5|0.2|Iris-setosa|\n",
      "|4.4|2.9|1.4|0.2|Iris-setosa|\n",
      "|4.9|3.1|1.5|0.1|Iris-setosa|\n",
      "|5.4|3.7|1.5|0.2|Iris-setosa|\n",
      "|4.8|3.4|1.6|0.2|Iris-setosa|\n",
      "|4.8|3.0|1.4|0.1|Iris-setosa|\n",
      "|4.3|3.0|1.1|0.1|Iris-setosa|\n",
      "|5.8|4.0|1.2|0.2|Iris-setosa|\n",
      "|5.7|4.4|1.5|0.4|Iris-setosa|\n",
      "|5.4|3.9|1.3|0.4|Iris-setosa|\n",
      "|5.1|3.5|1.4|0.3|Iris-setosa|\n",
      "|5.7|3.8|1.7|0.3|Iris-setosa|\n",
      "|5.1|3.8|1.5|0.3|Iris-setosa|\n",
      "+---+---+---+---+-----------+\n",
      "only showing top 20 rows\n",
      "\n"
     ]
    }
   ],
   "source": [
    "# Load and parse the data file, converting it to a DataFrame.\n",
    "\n",
    "# Download the file from https://archive.ics.uci.edu/ml/machine-learning-databases/iris/iris.data\n",
    "df = spark.read.csv(\"/path-to/iris.data\")\n",
    "df.show()"
   ]
  },
  {
   "cell_type": "code",
   "execution_count": 25,
   "id": "eca184ec",
   "metadata": {},
   "outputs": [
    {
     "name": "stdout",
     "output_type": "stream",
     "text": [
      "+---------+---------+---------+---------+-----------+\n",
      "|sepal_len|sepal_wid|petal_len|petal_wid|      class|\n",
      "+---------+---------+---------+---------+-----------+\n",
      "|      5.1|      3.5|      1.4|      0.2|Iris-setosa|\n",
      "|      4.9|      3.0|      1.4|      0.2|Iris-setosa|\n",
      "|      4.7|      3.2|      1.3|      0.2|Iris-setosa|\n",
      "|      4.6|      3.1|      1.5|      0.2|Iris-setosa|\n",
      "|      5.0|      3.6|      1.4|      0.2|Iris-setosa|\n",
      "|      5.4|      3.9|      1.7|      0.4|Iris-setosa|\n",
      "|      4.6|      3.4|      1.4|      0.3|Iris-setosa|\n",
      "|      5.0|      3.4|      1.5|      0.2|Iris-setosa|\n",
      "|      4.4|      2.9|      1.4|      0.2|Iris-setosa|\n",
      "|      4.9|      3.1|      1.5|      0.1|Iris-setosa|\n",
      "|      5.4|      3.7|      1.5|      0.2|Iris-setosa|\n",
      "|      4.8|      3.4|      1.6|      0.2|Iris-setosa|\n",
      "|      4.8|      3.0|      1.4|      0.1|Iris-setosa|\n",
      "|      4.3|      3.0|      1.1|      0.1|Iris-setosa|\n",
      "|      5.8|      4.0|      1.2|      0.2|Iris-setosa|\n",
      "|      5.7|      4.4|      1.5|      0.4|Iris-setosa|\n",
      "|      5.4|      3.9|      1.3|      0.4|Iris-setosa|\n",
      "|      5.1|      3.5|      1.4|      0.3|Iris-setosa|\n",
      "|      5.7|      3.8|      1.7|      0.3|Iris-setosa|\n",
      "|      5.1|      3.8|      1.5|      0.3|Iris-setosa|\n",
      "+---------+---------+---------+---------+-----------+\n",
      "only showing top 20 rows\n",
      "\n"
     ]
    }
   ],
   "source": [
    "df = df.withColumnRenamed('_c0', 'sepal_len')\\\n",
    "            .withColumnRenamed('_c1', 'sepal_wid')\\\n",
    "            .withColumnRenamed('_c2', 'petal_len')\\\n",
    "            .withColumnRenamed('_c3', 'petal_wid')\\\n",
    "            .withColumnRenamed('_c4', 'class')\n",
    "df.show()"
   ]
  },
  {
   "cell_type": "code",
   "execution_count": 27,
   "id": "6be8da5d",
   "metadata": {},
   "outputs": [],
   "source": [
    "from pyspark.ml.linalg import Vectors\n",
    "from pyspark.ml.feature import VectorAssembler\n",
    "\n",
    "assembler = VectorAssembler(\n",
    "    inputCols=[\"sepal_len\", \"sepal_wid\", \"petal_len\", 'petal_wid'],\n",
    "    outputCol=\"features\"\n",
    ")"
   ]
  },
  {
   "cell_type": "code",
   "execution_count": 28,
   "id": "6463576d",
   "metadata": {},
   "outputs": [
    {
     "name": "stdout",
     "output_type": "stream",
     "text": [
      "+---------+---------+---------+---------+-----------+\n",
      "|sepal_len|sepal_wid|petal_len|petal_wid|      class|\n",
      "+---------+---------+---------+---------+-----------+\n",
      "|      5.1|      3.5|      1.4|      0.2|Iris-setosa|\n",
      "|      4.9|      3.0|      1.4|      0.2|Iris-setosa|\n",
      "|      4.7|      3.2|      1.3|      0.2|Iris-setosa|\n",
      "|      4.6|      3.1|      1.5|      0.2|Iris-setosa|\n",
      "|      5.0|      3.6|      1.4|      0.2|Iris-setosa|\n",
      "|      5.4|      3.9|      1.7|      0.4|Iris-setosa|\n",
      "|      4.6|      3.4|      1.4|      0.3|Iris-setosa|\n",
      "|      5.0|      3.4|      1.5|      0.2|Iris-setosa|\n",
      "|      4.4|      2.9|      1.4|      0.2|Iris-setosa|\n",
      "|      4.9|      3.1|      1.5|      0.1|Iris-setosa|\n",
      "|      5.4|      3.7|      1.5|      0.2|Iris-setosa|\n",
      "|      4.8|      3.4|      1.6|      0.2|Iris-setosa|\n",
      "|      4.8|      3.0|      1.4|      0.1|Iris-setosa|\n",
      "|      4.3|      3.0|      1.1|      0.1|Iris-setosa|\n",
      "|      5.8|      4.0|      1.2|      0.2|Iris-setosa|\n",
      "|      5.7|      4.4|      1.5|      0.4|Iris-setosa|\n",
      "|      5.4|      3.9|      1.3|      0.4|Iris-setosa|\n",
      "|      5.1|      3.5|      1.4|      0.3|Iris-setosa|\n",
      "|      5.7|      3.8|      1.7|      0.3|Iris-setosa|\n",
      "|      5.1|      3.8|      1.5|      0.3|Iris-setosa|\n",
      "+---------+---------+---------+---------+-----------+\n",
      "only showing top 20 rows\n",
      "\n"
     ]
    }
   ],
   "source": [
    "from pyspark.sql.types import DoubleType\n",
    "df = df.withColumn(\"sepal_len\", df[\"sepal_len\"].cast(DoubleType()))\n",
    "df = df.withColumn(\"sepal_wid\", df[\"sepal_wid\"].cast(DoubleType()))\n",
    "df = df.withColumn(\"petal_len\", df[\"petal_len\"].cast(DoubleType()))\n",
    "df = df.withColumn(\"petal_wid\", df[\"petal_wid\"].cast(DoubleType()))\n",
    "df.show()"
   ]
  },
  {
   "cell_type": "code",
   "execution_count": 29,
   "id": "66d9783f",
   "metadata": {},
   "outputs": [
    {
     "name": "stdout",
     "output_type": "stream",
     "text": [
      "root\n",
      " |-- sepal_len: double (nullable = true)\n",
      " |-- sepal_wid: double (nullable = true)\n",
      " |-- petal_len: double (nullable = true)\n",
      " |-- petal_wid: double (nullable = true)\n",
      " |-- class: string (nullable = true)\n",
      "\n"
     ]
    }
   ],
   "source": [
    "df.printSchema()"
   ]
  },
  {
   "cell_type": "code",
   "execution_count": 31,
   "id": "81c035f8",
   "metadata": {},
   "outputs": [
    {
     "name": "stdout",
     "output_type": "stream",
     "text": [
      "+---------+---------+---------+---------+---------------+\n",
      "|sepal_len|sepal_wid|petal_len|petal_wid|          class|\n",
      "+---------+---------+---------+---------+---------------+\n",
      "|      4.3|      3.0|      1.1|      0.1|    Iris-setosa|\n",
      "|      4.4|      3.0|      1.3|      0.2|    Iris-setosa|\n",
      "|      4.5|      2.3|      1.3|      0.3|    Iris-setosa|\n",
      "|      4.6|      3.1|      1.5|      0.2|    Iris-setosa|\n",
      "|      4.6|      3.2|      1.4|      0.2|    Iris-setosa|\n",
      "|      4.6|      3.4|      1.4|      0.3|    Iris-setosa|\n",
      "|      4.7|      3.2|      1.3|      0.2|    Iris-setosa|\n",
      "|      4.8|      3.0|      1.4|      0.3|    Iris-setosa|\n",
      "|      4.8|      3.1|      1.6|      0.2|    Iris-setosa|\n",
      "|      4.8|      3.4|      1.6|      0.2|    Iris-setosa|\n",
      "|      4.8|      3.4|      1.9|      0.2|    Iris-setosa|\n",
      "|      4.9|      2.4|      3.3|      1.0|Iris-versicolor|\n",
      "|      4.9|      3.0|      1.4|      0.2|    Iris-setosa|\n",
      "|      4.9|      3.1|      1.5|      0.1|    Iris-setosa|\n",
      "|      5.0|      2.0|      3.5|      1.0|Iris-versicolor|\n",
      "|      5.0|      2.3|      3.3|      1.0|Iris-versicolor|\n",
      "|      5.0|      3.0|      1.6|      0.2|    Iris-setosa|\n",
      "|      5.0|      3.2|      1.2|      0.2|    Iris-setosa|\n",
      "|      5.0|      3.3|      1.4|      0.2|    Iris-setosa|\n",
      "|      5.0|      3.4|      1.5|      0.2|    Iris-setosa|\n",
      "+---------+---------+---------+---------+---------------+\n",
      "only showing top 20 rows\n",
      "\n"
     ]
    }
   ],
   "source": [
    "# Split the data into training and test sets (25% held out for testing)\n",
    "df_train, df_test = df.randomSplit([0.75, 0.25])\n",
    "df_train.show()"
   ]
  },
  {
   "cell_type": "code",
   "execution_count": 32,
   "id": "67a35b56",
   "metadata": {},
   "outputs": [
    {
     "name": "stdout",
     "output_type": "stream",
     "text": [
      "+---------+---------+---------+---------+---------------+-----------------+\n",
      "|sepal_len|sepal_wid|petal_len|petal_wid|          class|         features|\n",
      "+---------+---------+---------+---------+---------------+-----------------+\n",
      "|      4.3|      3.0|      1.1|      0.1|    Iris-setosa|[4.3,3.0,1.1,0.1]|\n",
      "|      4.4|      3.0|      1.3|      0.2|    Iris-setosa|[4.4,3.0,1.3,0.2]|\n",
      "|      4.5|      2.3|      1.3|      0.3|    Iris-setosa|[4.5,2.3,1.3,0.3]|\n",
      "|      4.6|      3.1|      1.5|      0.2|    Iris-setosa|[4.6,3.1,1.5,0.2]|\n",
      "|      4.6|      3.2|      1.4|      0.2|    Iris-setosa|[4.6,3.2,1.4,0.2]|\n",
      "|      4.6|      3.4|      1.4|      0.3|    Iris-setosa|[4.6,3.4,1.4,0.3]|\n",
      "|      4.7|      3.2|      1.3|      0.2|    Iris-setosa|[4.7,3.2,1.3,0.2]|\n",
      "|      4.8|      3.0|      1.4|      0.3|    Iris-setosa|[4.8,3.0,1.4,0.3]|\n",
      "|      4.8|      3.1|      1.6|      0.2|    Iris-setosa|[4.8,3.1,1.6,0.2]|\n",
      "|      4.8|      3.4|      1.6|      0.2|    Iris-setosa|[4.8,3.4,1.6,0.2]|\n",
      "|      4.8|      3.4|      1.9|      0.2|    Iris-setosa|[4.8,3.4,1.9,0.2]|\n",
      "|      4.9|      2.4|      3.3|      1.0|Iris-versicolor|[4.9,2.4,3.3,1.0]|\n",
      "|      4.9|      3.0|      1.4|      0.2|    Iris-setosa|[4.9,3.0,1.4,0.2]|\n",
      "|      4.9|      3.1|      1.5|      0.1|    Iris-setosa|[4.9,3.1,1.5,0.1]|\n",
      "|      5.0|      2.0|      3.5|      1.0|Iris-versicolor|[5.0,2.0,3.5,1.0]|\n",
      "|      5.0|      2.3|      3.3|      1.0|Iris-versicolor|[5.0,2.3,3.3,1.0]|\n",
      "|      5.0|      3.0|      1.6|      0.2|    Iris-setosa|[5.0,3.0,1.6,0.2]|\n",
      "|      5.0|      3.2|      1.2|      0.2|    Iris-setosa|[5.0,3.2,1.2,0.2]|\n",
      "|      5.0|      3.3|      1.4|      0.2|    Iris-setosa|[5.0,3.3,1.4,0.2]|\n",
      "|      5.0|      3.4|      1.5|      0.2|    Iris-setosa|[5.0,3.4,1.5,0.2]|\n",
      "+---------+---------+---------+---------+---------------+-----------------+\n",
      "only showing top 20 rows\n",
      "\n"
     ]
    }
   ],
   "source": [
    "df_train = assembler.transform(df_train)\n",
    "df_train.show()"
   ]
  },
  {
   "cell_type": "code",
   "execution_count": 33,
   "id": "708ef6bb",
   "metadata": {},
   "outputs": [
    {
     "name": "stdout",
     "output_type": "stream",
     "text": [
      "+---------+---------+---------+---------+---------------+-----------------+----------+\n",
      "|sepal_len|sepal_wid|petal_len|petal_wid|          class|         features|classLabel|\n",
      "+---------+---------+---------+---------+---------------+-----------------+----------+\n",
      "|      4.3|      3.0|      1.1|      0.1|    Iris-setosa|[4.3,3.0,1.1,0.1]|       0.0|\n",
      "|      4.4|      3.0|      1.3|      0.2|    Iris-setosa|[4.4,3.0,1.3,0.2]|       0.0|\n",
      "|      4.5|      2.3|      1.3|      0.3|    Iris-setosa|[4.5,2.3,1.3,0.3]|       0.0|\n",
      "|      4.6|      3.1|      1.5|      0.2|    Iris-setosa|[4.6,3.1,1.5,0.2]|       0.0|\n",
      "|      4.6|      3.2|      1.4|      0.2|    Iris-setosa|[4.6,3.2,1.4,0.2]|       0.0|\n",
      "|      4.6|      3.4|      1.4|      0.3|    Iris-setosa|[4.6,3.4,1.4,0.3]|       0.0|\n",
      "|      4.7|      3.2|      1.3|      0.2|    Iris-setosa|[4.7,3.2,1.3,0.2]|       0.0|\n",
      "|      4.8|      3.0|      1.4|      0.3|    Iris-setosa|[4.8,3.0,1.4,0.3]|       0.0|\n",
      "|      4.8|      3.1|      1.6|      0.2|    Iris-setosa|[4.8,3.1,1.6,0.2]|       0.0|\n",
      "|      4.8|      3.4|      1.6|      0.2|    Iris-setosa|[4.8,3.4,1.6,0.2]|       0.0|\n",
      "|      4.8|      3.4|      1.9|      0.2|    Iris-setosa|[4.8,3.4,1.9,0.2]|       0.0|\n",
      "|      4.9|      2.4|      3.3|      1.0|Iris-versicolor|[4.9,2.4,3.3,1.0]|       1.0|\n",
      "|      4.9|      3.0|      1.4|      0.2|    Iris-setosa|[4.9,3.0,1.4,0.2]|       0.0|\n",
      "|      4.9|      3.1|      1.5|      0.1|    Iris-setosa|[4.9,3.1,1.5,0.1]|       0.0|\n",
      "|      5.0|      2.0|      3.5|      1.0|Iris-versicolor|[5.0,2.0,3.5,1.0]|       1.0|\n",
      "|      5.0|      2.3|      3.3|      1.0|Iris-versicolor|[5.0,2.3,3.3,1.0]|       1.0|\n",
      "|      5.0|      3.0|      1.6|      0.2|    Iris-setosa|[5.0,3.0,1.6,0.2]|       0.0|\n",
      "|      5.0|      3.2|      1.2|      0.2|    Iris-setosa|[5.0,3.2,1.2,0.2]|       0.0|\n",
      "|      5.0|      3.3|      1.4|      0.2|    Iris-setosa|[5.0,3.3,1.4,0.2]|       0.0|\n",
      "|      5.0|      3.4|      1.5|      0.2|    Iris-setosa|[5.0,3.4,1.5,0.2]|       0.0|\n",
      "+---------+---------+---------+---------+---------------+-----------------+----------+\n",
      "only showing top 20 rows\n",
      "\n"
     ]
    }
   ],
   "source": [
    "# Index labels, adding metadata to the label column.\n",
    "# Fit on whole dataset to include all labels in index.\n",
    "labelIndexer = StringIndexer(inputCol=\"class\", outputCol=\"classLabel\").fit(df)\n",
    "df_train = labelIndexer.transform(df_train)\n",
    "df_train.show()"
   ]
  },
  {
   "cell_type": "code",
   "execution_count": 34,
   "id": "af7631fc",
   "metadata": {},
   "outputs": [
    {
     "name": "stdout",
     "output_type": "stream",
     "text": [
      "+---------+---------+---------+---------+---------------+-----------------+----------+-----------------+\n",
      "|sepal_len|sepal_wid|petal_len|petal_wid|          class|         features|classLabel|  indexedFeatures|\n",
      "+---------+---------+---------+---------+---------------+-----------------+----------+-----------------+\n",
      "|      4.3|      3.0|      1.1|      0.1|    Iris-setosa|[4.3,3.0,1.1,0.1]|       0.0|[4.3,3.0,1.1,0.1]|\n",
      "|      4.4|      3.0|      1.3|      0.2|    Iris-setosa|[4.4,3.0,1.3,0.2]|       0.0|[4.4,3.0,1.3,0.2]|\n",
      "|      4.5|      2.3|      1.3|      0.3|    Iris-setosa|[4.5,2.3,1.3,0.3]|       0.0|[4.5,2.3,1.3,0.3]|\n",
      "|      4.6|      3.1|      1.5|      0.2|    Iris-setosa|[4.6,3.1,1.5,0.2]|       0.0|[4.6,3.1,1.5,0.2]|\n",
      "|      4.6|      3.2|      1.4|      0.2|    Iris-setosa|[4.6,3.2,1.4,0.2]|       0.0|[4.6,3.2,1.4,0.2]|\n",
      "|      4.6|      3.4|      1.4|      0.3|    Iris-setosa|[4.6,3.4,1.4,0.3]|       0.0|[4.6,3.4,1.4,0.3]|\n",
      "|      4.7|      3.2|      1.3|      0.2|    Iris-setosa|[4.7,3.2,1.3,0.2]|       0.0|[4.7,3.2,1.3,0.2]|\n",
      "|      4.8|      3.0|      1.4|      0.3|    Iris-setosa|[4.8,3.0,1.4,0.3]|       0.0|[4.8,3.0,1.4,0.3]|\n",
      "|      4.8|      3.1|      1.6|      0.2|    Iris-setosa|[4.8,3.1,1.6,0.2]|       0.0|[4.8,3.1,1.6,0.2]|\n",
      "|      4.8|      3.4|      1.6|      0.2|    Iris-setosa|[4.8,3.4,1.6,0.2]|       0.0|[4.8,3.4,1.6,0.2]|\n",
      "|      4.8|      3.4|      1.9|      0.2|    Iris-setosa|[4.8,3.4,1.9,0.2]|       0.0|[4.8,3.4,1.9,0.2]|\n",
      "|      4.9|      2.4|      3.3|      1.0|Iris-versicolor|[4.9,2.4,3.3,1.0]|       1.0|[4.9,2.4,3.3,1.0]|\n",
      "|      4.9|      3.0|      1.4|      0.2|    Iris-setosa|[4.9,3.0,1.4,0.2]|       0.0|[4.9,3.0,1.4,0.2]|\n",
      "|      4.9|      3.1|      1.5|      0.1|    Iris-setosa|[4.9,3.1,1.5,0.1]|       0.0|[4.9,3.1,1.5,0.1]|\n",
      "|      5.0|      2.0|      3.5|      1.0|Iris-versicolor|[5.0,2.0,3.5,1.0]|       1.0|[5.0,2.0,3.5,1.0]|\n",
      "|      5.0|      2.3|      3.3|      1.0|Iris-versicolor|[5.0,2.3,3.3,1.0]|       1.0|[5.0,2.3,3.3,1.0]|\n",
      "|      5.0|      3.0|      1.6|      0.2|    Iris-setosa|[5.0,3.0,1.6,0.2]|       0.0|[5.0,3.0,1.6,0.2]|\n",
      "|      5.0|      3.2|      1.2|      0.2|    Iris-setosa|[5.0,3.2,1.2,0.2]|       0.0|[5.0,3.2,1.2,0.2]|\n",
      "|      5.0|      3.3|      1.4|      0.2|    Iris-setosa|[5.0,3.3,1.4,0.2]|       0.0|[5.0,3.3,1.4,0.2]|\n",
      "|      5.0|      3.4|      1.5|      0.2|    Iris-setosa|[5.0,3.4,1.5,0.2]|       0.0|[5.0,3.4,1.5,0.2]|\n",
      "+---------+---------+---------+---------+---------------+-----------------+----------+-----------------+\n",
      "only showing top 20 rows\n",
      "\n"
     ]
    }
   ],
   "source": [
    "# Automatically identify categorical features, and index them.\n",
    "# Set maxCategories so features with > 4 distinct values are treated as continuous.\n",
    "featureIndexer = VectorIndexer(inputCol=\"features\", outputCol=\"indexedFeatures\", maxCategories=4).fit(df_train)\n",
    "df_train = featureIndexer.transform(df_train)\n",
    "df_train.show()"
   ]
  },
  {
   "cell_type": "code",
   "execution_count": 35,
   "id": "110adca7",
   "metadata": {},
   "outputs": [],
   "source": [
    "# Train a RandomForest model.\n",
    "rf = RandomForestClassifier(labelCol=\"classLabel\", featuresCol=\"features\", numTrees=10)\n",
    "model = rf.fit(df_train)"
   ]
  },
  {
   "cell_type": "code",
   "execution_count": 36,
   "id": "7da31936",
   "metadata": {},
   "outputs": [
    {
     "name": "stdout",
     "output_type": "stream",
     "text": [
      "+---------+---------+---------+---------+---------------+-----------------+----------+-----------------+\n",
      "|sepal_len|sepal_wid|petal_len|petal_wid|          class|         features|classLabel|  indexedFeatures|\n",
      "+---------+---------+---------+---------+---------------+-----------------+----------+-----------------+\n",
      "|      4.4|      2.9|      1.4|      0.2|    Iris-setosa|[4.4,2.9,1.4,0.2]|       0.0|[4.4,2.9,1.4,0.2]|\n",
      "|      4.4|      3.2|      1.3|      0.2|    Iris-setosa|[4.4,3.2,1.3,0.2]|       0.0|[4.4,3.2,1.3,0.2]|\n",
      "|      4.6|      3.6|      1.0|      0.2|    Iris-setosa|[4.6,3.6,1.0,0.2]|       0.0|[4.6,3.6,1.0,0.2]|\n",
      "|      4.7|      3.2|      1.6|      0.2|    Iris-setosa|[4.7,3.2,1.6,0.2]|       0.0|[4.7,3.2,1.6,0.2]|\n",
      "|      4.8|      3.0|      1.4|      0.1|    Iris-setosa|[4.8,3.0,1.4,0.1]|       0.0|[4.8,3.0,1.4,0.1]|\n",
      "|      4.9|      2.5|      4.5|      1.7| Iris-virginica|[4.9,2.5,4.5,1.7]|       2.0|[4.9,2.5,4.5,1.7]|\n",
      "|      4.9|      3.1|      1.5|      0.1|    Iris-setosa|[4.9,3.1,1.5,0.1]|       0.0|[4.9,3.1,1.5,0.1]|\n",
      "|      4.9|      3.1|      1.5|      0.1|    Iris-setosa|[4.9,3.1,1.5,0.1]|       0.0|[4.9,3.1,1.5,0.1]|\n",
      "|      5.0|      3.5|      1.3|      0.3|    Iris-setosa|[5.0,3.5,1.3,0.3]|       0.0|[5.0,3.5,1.3,0.3]|\n",
      "|      5.0|      3.5|      1.6|      0.6|    Iris-setosa|[5.0,3.5,1.6,0.6]|       0.0|[5.0,3.5,1.6,0.6]|\n",
      "|      5.0|      3.6|      1.4|      0.2|    Iris-setosa|[5.0,3.6,1.4,0.2]|       0.0|[5.0,3.6,1.4,0.2]|\n",
      "|      5.1|      3.3|      1.7|      0.5|    Iris-setosa|[5.1,3.3,1.7,0.5]|       0.0|[5.1,3.3,1.7,0.5]|\n",
      "|      5.1|      3.7|      1.5|      0.4|    Iris-setosa|[5.1,3.7,1.5,0.4]|       0.0|[5.1,3.7,1.5,0.4]|\n",
      "|      5.4|      3.9|      1.3|      0.4|    Iris-setosa|[5.4,3.9,1.3,0.4]|       0.0|[5.4,3.9,1.3,0.4]|\n",
      "|      5.5|      3.5|      1.3|      0.2|    Iris-setosa|[5.5,3.5,1.3,0.2]|       0.0|[5.5,3.5,1.3,0.2]|\n",
      "|      5.6|      2.5|      3.9|      1.1|Iris-versicolor|[5.6,2.5,3.9,1.1]|       1.0|[5.6,2.5,3.9,1.1]|\n",
      "|      5.6|      2.7|      4.2|      1.3|Iris-versicolor|[5.6,2.7,4.2,1.3]|       1.0|[5.6,2.7,4.2,1.3]|\n",
      "|      5.7|      2.5|      5.0|      2.0| Iris-virginica|[5.7,2.5,5.0,2.0]|       2.0|[5.7,2.5,5.0,2.0]|\n",
      "|      5.8|      2.7|      3.9|      1.2|Iris-versicolor|[5.8,2.7,3.9,1.2]|       1.0|[5.8,2.7,3.9,1.2]|\n",
      "|      5.8|      2.7|      4.1|      1.0|Iris-versicolor|[5.8,2.7,4.1,1.0]|       1.0|[5.8,2.7,4.1,1.0]|\n",
      "+---------+---------+---------+---------+---------------+-----------------+----------+-----------------+\n",
      "only showing top 20 rows\n",
      "\n"
     ]
    }
   ],
   "source": [
    "# Here we could have used a pipeline to avoid applying again step by step all the iterations\n",
    "df_test = assembler.transform(df_test)\n",
    "df_test = labelIndexer.transform(df_test)\n",
    "df_test = featureIndexer.transform(df_test)\n",
    "df_test.show()\n",
    "\n",
    "# Something similar to this:\n",
    "# # Chain indexers and forest in a Pipeline\n",
    "# pipeline = Pipeline(stages=[labelIndexer, featureIndexer, rf, labelConverter])\n",
    "\n",
    "# # Train model.  This also runs the indexers.\n",
    "# model = pipeline.fit(df_train)\n",
    "\n",
    "# # Make predictions.\n",
    "# predictions = model.transform(df_test)\n"
   ]
  },
  {
   "cell_type": "code",
   "execution_count": 37,
   "id": "91c5a9b2",
   "metadata": {},
   "outputs": [
    {
     "name": "stdout",
     "output_type": "stream",
     "text": [
      "+---------+---------+---------+---------+---------------+-----------------+----------+-----------------+--------------+-------------+----------+\n",
      "|sepal_len|sepal_wid|petal_len|petal_wid|          class|         features|classLabel|  indexedFeatures| rawPrediction|  probability|prediction|\n",
      "+---------+---------+---------+---------+---------------+-----------------+----------+-----------------+--------------+-------------+----------+\n",
      "|      4.4|      2.9|      1.4|      0.2|    Iris-setosa|[4.4,2.9,1.4,0.2]|       0.0|[4.4,2.9,1.4,0.2]|[10.0,0.0,0.0]|[1.0,0.0,0.0]|       0.0|\n",
      "|      4.4|      3.2|      1.3|      0.2|    Iris-setosa|[4.4,3.2,1.3,0.2]|       0.0|[4.4,3.2,1.3,0.2]|[10.0,0.0,0.0]|[1.0,0.0,0.0]|       0.0|\n",
      "|      4.6|      3.6|      1.0|      0.2|    Iris-setosa|[4.6,3.6,1.0,0.2]|       0.0|[4.6,3.6,1.0,0.2]|[10.0,0.0,0.0]|[1.0,0.0,0.0]|       0.0|\n",
      "|      4.7|      3.2|      1.6|      0.2|    Iris-setosa|[4.7,3.2,1.6,0.2]|       0.0|[4.7,3.2,1.6,0.2]|[10.0,0.0,0.0]|[1.0,0.0,0.0]|       0.0|\n",
      "|      4.8|      3.0|      1.4|      0.1|    Iris-setosa|[4.8,3.0,1.4,0.1]|       0.0|[4.8,3.0,1.4,0.1]|[10.0,0.0,0.0]|[1.0,0.0,0.0]|       0.0|\n",
      "|      4.9|      2.5|      4.5|      1.7| Iris-virginica|[4.9,2.5,4.5,1.7]|       2.0|[4.9,2.5,4.5,1.7]| [0.0,9.0,1.0]|[0.0,0.9,0.1]|       1.0|\n",
      "|      4.9|      3.1|      1.5|      0.1|    Iris-setosa|[4.9,3.1,1.5,0.1]|       0.0|[4.9,3.1,1.5,0.1]|[10.0,0.0,0.0]|[1.0,0.0,0.0]|       0.0|\n",
      "|      4.9|      3.1|      1.5|      0.1|    Iris-setosa|[4.9,3.1,1.5,0.1]|       0.0|[4.9,3.1,1.5,0.1]|[10.0,0.0,0.0]|[1.0,0.0,0.0]|       0.0|\n",
      "|      5.0|      3.5|      1.3|      0.3|    Iris-setosa|[5.0,3.5,1.3,0.3]|       0.0|[5.0,3.5,1.3,0.3]|[10.0,0.0,0.0]|[1.0,0.0,0.0]|       0.0|\n",
      "|      5.0|      3.5|      1.6|      0.6|    Iris-setosa|[5.0,3.5,1.6,0.6]|       0.0|[5.0,3.5,1.6,0.6]|[10.0,0.0,0.0]|[1.0,0.0,0.0]|       0.0|\n",
      "|      5.0|      3.6|      1.4|      0.2|    Iris-setosa|[5.0,3.6,1.4,0.2]|       0.0|[5.0,3.6,1.4,0.2]|[10.0,0.0,0.0]|[1.0,0.0,0.0]|       0.0|\n",
      "|      5.1|      3.3|      1.7|      0.5|    Iris-setosa|[5.1,3.3,1.7,0.5]|       0.0|[5.1,3.3,1.7,0.5]|[10.0,0.0,0.0]|[1.0,0.0,0.0]|       0.0|\n",
      "|      5.1|      3.7|      1.5|      0.4|    Iris-setosa|[5.1,3.7,1.5,0.4]|       0.0|[5.1,3.7,1.5,0.4]|[10.0,0.0,0.0]|[1.0,0.0,0.0]|       0.0|\n",
      "|      5.4|      3.9|      1.3|      0.4|    Iris-setosa|[5.4,3.9,1.3,0.4]|       0.0|[5.4,3.9,1.3,0.4]|[10.0,0.0,0.0]|[1.0,0.0,0.0]|       0.0|\n",
      "|      5.5|      3.5|      1.3|      0.2|    Iris-setosa|[5.5,3.5,1.3,0.2]|       0.0|[5.5,3.5,1.3,0.2]|[10.0,0.0,0.0]|[1.0,0.0,0.0]|       0.0|\n",
      "|      5.6|      2.5|      3.9|      1.1|Iris-versicolor|[5.6,2.5,3.9,1.1]|       1.0|[5.6,2.5,3.9,1.1]|[0.0,10.0,0.0]|[0.0,1.0,0.0]|       1.0|\n",
      "|      5.6|      2.7|      4.2|      1.3|Iris-versicolor|[5.6,2.7,4.2,1.3]|       1.0|[5.6,2.7,4.2,1.3]|[0.0,10.0,0.0]|[0.0,1.0,0.0]|       1.0|\n",
      "|      5.7|      2.5|      5.0|      2.0| Iris-virginica|[5.7,2.5,5.0,2.0]|       2.0|[5.7,2.5,5.0,2.0]|[0.0,0.0,10.0]|[0.0,0.0,1.0]|       2.0|\n",
      "|      5.8|      2.7|      3.9|      1.2|Iris-versicolor|[5.8,2.7,3.9,1.2]|       1.0|[5.8,2.7,3.9,1.2]|[0.0,10.0,0.0]|[0.0,1.0,0.0]|       1.0|\n",
      "|      5.8|      2.7|      4.1|      1.0|Iris-versicolor|[5.8,2.7,4.1,1.0]|       1.0|[5.8,2.7,4.1,1.0]|[0.0,10.0,0.0]|[0.0,1.0,0.0]|       1.0|\n",
      "+---------+---------+---------+---------+---------------+-----------------+----------+-----------------+--------------+-------------+----------+\n",
      "only showing top 20 rows\n",
      "\n"
     ]
    }
   ],
   "source": [
    "df_test = model.transform(df_test)\n",
    "df_test.show()"
   ]
  },
  {
   "cell_type": "code",
   "execution_count": 44,
   "id": "bca636a0",
   "metadata": {},
   "outputs": [
    {
     "name": "stdout",
     "output_type": "stream",
     "text": [
      "+----------+----------+\n",
      "|prediction|classLabel|\n",
      "+----------+----------+\n",
      "|       0.0|       0.0|\n",
      "|       0.0|       0.0|\n",
      "|       0.0|       0.0|\n",
      "|       0.0|       0.0|\n",
      "|       0.0|       0.0|\n",
      "+----------+----------+\n",
      "only showing top 5 rows\n",
      "\n"
     ]
    }
   ],
   "source": [
    "# import pyspark.sql.functions as f\n",
    "# df_test.where(f.col('predictedLabel') != f.col('class')).select("predictedLabel", "class", "features").show()\n",
    "df_test.select(\"prediction\", \"classLabel\").show(5)"
   ]
  },
  {
   "cell_type": "code",
   "execution_count": 42,
   "id": "b2bb6347",
   "metadata": {},
   "outputs": [],
   "source": [
    "# Select (prediction, true label) and compute test error\n",
    "evaluator = MulticlassClassificationEvaluator(\n",
    "    labelCol=\"classLabel\", predictionCol=\"prediction\", metricName=\"accuracy\"\n",
    ")"
   ]
  },
  {
   "cell_type": "code",
   "execution_count": 40,
   "id": "5e0db861",
   "metadata": {},
   "outputs": [
    {
     "name": "stdout",
     "output_type": "stream",
     "text": [
      "Test Error = 0.0526316\n"
     ]
    }
   ],
   "source": [
    "accuracy = evaluator.evaluate(df_test)\n",
    "print(\"Test Error = %g\" % (1.0 - accuracy))"
   ]
  },
  {
   "cell_type": "code",
   "execution_count": 41,
   "id": "232412f1",
   "metadata": {},
   "outputs": [
    {
     "data": {
      "text/plain": [
       "DecisionTreeClassificationModel (uid=dtc_a9cb53a8a1cf) of depth 3 with 9 nodes"
      ]
     },
     "execution_count": 41,
     "metadata": {},
     "output_type": "execute_result"
    }
   ],
   "source": [
    "model.trees[2]"
   ]
  },
  {
   "cell_type": "code",
   "execution_count": null,
   "id": "9e775cb5",
   "metadata": {},
   "outputs": [],
   "source": []
  }
 ],
 "metadata": {
  "kernelspec": {
   "display_name": "Python 3 (ipykernel)",
   "language": "python",
   "name": "python3"
  },
  "language_info": {
   "codemirror_mode": {
    "name": "ipython",
    "version": 3
   },
   "file_extension": ".py",
   "mimetype": "text/x-python",
   "name": "python",
   "nbconvert_exporter": "python",
   "pygments_lexer": "ipython3",
   "version": "3.7.11"
  }
 },
 "nbformat": 4,
 "nbformat_minor": 5
}
